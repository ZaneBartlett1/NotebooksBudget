{
 "cells": [
  {
   "cell_type": "markdown",
   "id": "b907784a-c81f-4e11-a3d4-e7423eefe7a3",
   "metadata": {
    "jp-MarkdownHeadingCollapsed": true,
    "tags": []
   },
   "source": [
    "# Init"
   ]
  },
  {
   "cell_type": "code",
   "execution_count": null,
   "id": "fd31662c-4c44-4f58-984a-07b83c45889b",
   "metadata": {},
   "outputs": [],
   "source": [
    "# Anytime you restart the kernal, you'll want to run the cells under Init\n",
    "from budget import *\n",
    "\n",
    "from sqlalchemy import Table, DateTime\n",
    "\n",
    "pd.options.mode.chained_assignment = None\n",
    "\n",
    "Salary = (1480.19*26) # Put your yearly salary here, you can do your biweekly paycheck times 26 if you get paid that way.\n",
    "main()\n",
    "# The graph files have to be imported after main or there's an issue with how things load \n",
    "from graphs import *"
   ]
  },
  {
   "cell_type": "markdown",
   "id": "17b4525f-a203-4062-9a89-23b5099809ef",
   "metadata": {
    "jp-MarkdownHeadingCollapsed": true,
    "tags": []
   },
   "source": [
    "# Workflows"
   ]
  },
  {
   "cell_type": "markdown",
   "id": "eddbb618-bd18-4b4e-9256-2f58cabe40a4",
   "metadata": {
    "jp-MarkdownHeadingCollapsed": true,
    "tags": []
   },
   "source": [
    "## Generating and playing with fake data"
   ]
  },
  {
   "cell_type": "markdown",
   "id": "b1236542-56e8-43d4-85b8-8aa5c495aac4",
   "metadata": {},
   "source": [
    "If you'd like to play with fake data first before importing your own, you'll need to follow these steps\n",
    "\n",
    "1. Run the ```generate_example_data(num_rows=)``` function and set the num_rows equal to how much data you'd like to play with. 100 is generally good\n",
    "2. Run the ```main()``` again to import this new test data\n",
    "3. Reset the kernel so that all the other functions pick up the new inserted data, rerun the Init cells\n",
    "4. When you're done, if you want to clean up, delete all the test data in ```banking_csvs```"
   ]
  },
  {
   "cell_type": "code",
   "execution_count": null,
   "id": "3b4942b3-48fa-4629-b359-a6ebc5fe4a70",
   "metadata": {},
   "outputs": [],
   "source": [
    "generate_example_data(num_rows=100)\n",
    "main()"
   ]
  },
  {
   "cell_type": "code",
   "execution_count": null,
   "id": "57f3d6b5-a702-4ab9-ab10-911b91a975c4",
   "metadata": {},
   "outputs": [],
   "source": [
    "# This is the Init cell. You can press 00 Enter to restart the kernel, then run this\n",
    "from budget import *\n",
    "\n",
    "from sqlalchemy import Table, DateTime\n",
    "\n",
    "pd.options.mode.chained_assignment = None\n",
    "\n",
    "Salary = ()\n",
    "main()\n",
    "from graphs import *"
   ]
  },
  {
   "cell_type": "markdown",
   "id": "134bca18-ad3d-480f-b39e-8622455180dd",
   "metadata": {
    "jp-MarkdownHeadingCollapsed": true,
    "tags": []
   },
   "source": [
    "## Figuring out what's normal"
   ]
  },
  {
   "cell_type": "markdown",
   "id": "3b5f7c63-1d35-425f-a1b1-69d2e4599870",
   "metadata": {},
   "source": [
    " 1. Run the graph_one function below to get a sense of how categorized your expenses are out of the gate\n",
    " 2. Using the pt_one function\n",
    "    * and ```add_vendor``` function, get your \"No Vendor Found\" tag amount to a satisfying point \n",
    "    * and ```make_children``` function, get your \"Vendors w/o default Tag\" to a satisfying point\n",
    "    * Note: There is also \"unique_tags\" which is a data frame will show your unique tags, if you need help remembering and/or spelling\n",
    " 3. This should be generally what your monthly expenses are\n",
    " \n",
    "Note: graph_two is literally just graph one, but there are lines for each transaction in the bar graph. This can be good to see if a tag is a lot of little transactions or a few big ones."
   ]
  },
  {
   "cell_type": "code",
   "execution_count": null,
   "id": "0232c21c-db15-4174-8c39-87a873921aaa",
   "metadata": {},
   "outputs": [],
   "source": [
    "graph_one(group_by='Month', filter_year='2022', filter_month='01', height=500, width=1200)"
   ]
  },
  {
   "cell_type": "code",
   "execution_count": null,
   "id": "1c2ce18b-a6db-47ec-a1ce-0f0e450b07bb",
   "metadata": {},
   "outputs": [],
   "source": [
    "graph_two(group_by='Month', filter_year='2022', filter_month='01', height=500, width=1200)"
   ]
  },
  {
   "cell_type": "code",
   "execution_count": null,
   "id": "f5c1820c-8530-469e-b7c5-91ff96a9377b",
   "metadata": {},
   "outputs": [],
   "source": [
    "unique_tags"
   ]
  },
  {
   "cell_type": "code",
   "execution_count": null,
   "id": "392cff17-f4fc-4cfe-bbeb-73f653f7212e",
   "metadata": {},
   "outputs": [],
   "source": [
    "pt_one(filter_tag='Vendor w/o default Tag', head=40)"
   ]
  },
  {
   "cell_type": "code",
   "execution_count": null,
   "id": "0345a3b5-cde7-4150-806d-4f11d69f8505",
   "metadata": {},
   "outputs": [],
   "source": [
    "children = [(-7.77, \"Amazon\", \"Tech\", \"Book 1\"), (-1, \"Amazon\", \"Tech\", \"Book 2\")]\n",
    "make_children(engine, 7, children)"
   ]
  },
  {
   "cell_type": "markdown",
   "id": "c623ab71-f789-4957-ae4a-0230f8b07e9c",
   "metadata": {
    "jp-MarkdownHeadingCollapsed": true,
    "tags": []
   },
   "source": [
    "## Periodic Check-in"
   ]
  },
  {
   "cell_type": "code",
   "execution_count": null,
   "id": "682041dd-0000-4105-affa-c6b160552b8e",
   "metadata": {},
   "outputs": [],
   "source": [
    "graph_three(filter_year='2023', filter_month='2', height=600, width=1300, budget_plan='60/25/15_rule', Salary=Salary)"
   ]
  },
  {
   "cell_type": "code",
   "execution_count": null,
   "id": "35cbcbcc-46a3-4559-904a-ef310b17c57b",
   "metadata": {},
   "outputs": [],
   "source": [
    "set(tran_table.Tag)"
   ]
  },
  {
   "cell_type": "code",
   "execution_count": null,
   "id": "343db3f4-43b6-4d31-8bc4-29dbe4db500f",
   "metadata": {},
   "outputs": [],
   "source": [
    "pt_one(filter_tag='Vendor w/o default Tag', filter_month='2023-02')"
   ]
  },
  {
   "cell_type": "code",
   "execution_count": null,
   "id": "4a0d9faa-96b8-4f04-87b8-d33a11bee5d8",
   "metadata": {},
   "outputs": [],
   "source": [
    "vendors=[\n",
    "    {\n",
    "        \"Vendor\": \"Favor\",\n",
    "        \"Pattern\": \"FAVOR\",\n",
    "        \"Tag\": \"Eating for pleasure\",\n",
    "    }\n",
    "]\n",
    "add_vendor(vendors, engine=engine, session=session, yml_file_path=yml_file_path)"
   ]
  },
  {
   "cell_type": "code",
   "execution_count": null,
   "id": "1ad18b00-53a6-43aa-b7f6-2ac8a6b1a8af",
   "metadata": {},
   "outputs": [],
   "source": [
    "vendor_list"
   ]
  },
  {
   "cell_type": "markdown",
   "id": "ef13eaa7-2e77-42b3-8f81-fa4840b2c52a",
   "metadata": {
    "jp-MarkdownHeadingCollapsed": true,
    "tags": []
   },
   "source": [
    "## Yearly Check-in"
   ]
  },
  {
   "cell_type": "code",
   "execution_count": null,
   "id": "1860b564-9b2a-435c-b585-311aada3aff0",
   "metadata": {},
   "outputs": [],
   "source": [
    "graph_four(filter_year='2023', filter_month='01', height=500, width=1200, invert=True)"
   ]
  },
  {
   "cell_type": "code",
   "execution_count": null,
   "id": "bcaf015a-6521-49ae-a53f-e452a025842f",
   "metadata": {},
   "outputs": [],
   "source": [
    "graph_five(filter_year='2022', filter_month='01', height=500, width=1200, invert=True)"
   ]
  },
  {
   "cell_type": "markdown",
   "id": "279ba166-6ded-4aae-b571-daf970fe7a26",
   "metadata": {
    "jp-MarkdownHeadingCollapsed": true,
    "tags": []
   },
   "source": [
    "# Meaningful Function Definitions"
   ]
  },
  {
   "cell_type": "code",
   "execution_count": null,
   "id": "d372e7b4-1765-4849-a45c-0ce872efec14",
   "metadata": {},
   "outputs": [],
   "source": [
    "graph_one?"
   ]
  },
  {
   "cell_type": "code",
   "execution_count": null,
   "id": "24951b67-ac30-4f79-b365-cae344e94d00",
   "metadata": {},
   "outputs": [],
   "source": [
    "graph_two?"
   ]
  },
  {
   "cell_type": "code",
   "execution_count": null,
   "id": "0cfd3439-d2a5-4278-b689-58cf832f3247",
   "metadata": {},
   "outputs": [],
   "source": [
    "graph_three?"
   ]
  },
  {
   "cell_type": "code",
   "execution_count": null,
   "id": "7506ee8a-c0fa-4fe4-b8d4-8bb1fde5f089",
   "metadata": {},
   "outputs": [],
   "source": [
    "pt_one?"
   ]
  },
  {
   "cell_type": "code",
   "execution_count": null,
   "id": "bb68089d-e1cc-4d9d-be46-004737a08f09",
   "metadata": {},
   "outputs": [],
   "source": [
    "add_update_vendor?"
   ]
  },
  {
   "cell_type": "code",
   "execution_count": null,
   "id": "fa2311d5-262a-422b-aff2-a8252d0d80be",
   "metadata": {},
   "outputs": [],
   "source": [
    "update_vendor?"
   ]
  },
  {
   "cell_type": "code",
   "execution_count": null,
   "id": "560be5bb-2d8c-4103-9c70-7dd1da5ecf04",
   "metadata": {},
   "outputs": [],
   "source": [
    "make_children?"
   ]
  },
  {
   "cell_type": "code",
   "execution_count": null,
   "id": "ec2e8b1d-53d3-4e64-91c5-009520f2cd08",
   "metadata": {},
   "outputs": [],
   "source": [
    "uuid_to_vendor?"
   ]
  },
  {
   "cell_type": "code",
   "execution_count": null,
   "id": "fc03e47b-25de-4c74-82e5-45f7c6b8406d",
   "metadata": {},
   "outputs": [],
   "source": [
    "vendor_to_uuid?"
   ]
  },
  {
   "cell_type": "code",
   "execution_count": null,
   "id": "20b6f19c-43da-41e5-9a96-abfb12768576",
   "metadata": {},
   "outputs": [],
   "source": [
    "generate_example_data?"
   ]
  },
  {
   "cell_type": "code",
   "execution_count": null,
   "id": "8ff014aa-3006-4c3a-925f-4054ca2a6241",
   "metadata": {},
   "outputs": [],
   "source": [
    "set(tran_table.Tag) # Not a function, but gets you all the unique tags"
   ]
  }
 ],
 "metadata": {
  "kernelspec": {
   "display_name": "Python 3 (ipykernel)",
   "language": "python",
   "name": "python3"
  },
  "language_info": {
   "codemirror_mode": {
    "name": "ipython",
    "version": 3
   },
   "file_extension": ".py",
   "mimetype": "text/x-python",
   "name": "python",
   "nbconvert_exporter": "python",
   "pygments_lexer": "ipython3",
   "version": "3.10.6"
  },
  "toc-autonumbering": true,
  "toc-showcode": false,
  "toc-showmarkdowntxt": false,
  "toc-showtags": false
 },
 "nbformat": 4,
 "nbformat_minor": 5
}
